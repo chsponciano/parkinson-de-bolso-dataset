{
  "nbformat": 4,
  "nbformat_minor": 0,
  "metadata": {
    "colab": {
      "name": "TCC - Segmentação",
      "provenance": []
    },
    "kernelspec": {
      "name": "python3",
      "display_name": "Python 3"
    }
  },
  "cells": [
    {
      "cell_type": "code",
      "metadata": {
        "colab": {
          "base_uri": "https://localhost:8080/"
        },
        "id": "Ysq4-_nxwBaG",
        "outputId": "ffd4759d-2605-4d66-9284-6bc905b8dfa7"
      },
      "source": [
        "!curl -LO https://github.com/ayoolaolafenwa/PixelLib/releases/download/1.1/deeplabv3_xception_tf_dim_ordering_tf_kernels.h5"
      ],
      "execution_count": null,
      "outputs": [
        {
          "output_type": "stream",
          "text": [
            "  % Total    % Received % Xferd  Average Speed   Time    Time     Time  Current\n",
            "                                 Dload  Upload   Total   Spent    Left  Speed\n",
            "100   656  100   656    0     0   1935      0 --:--:-- --:--:-- --:--:--  1935\n",
            "100  158M  100  158M    0     0  40.5M      0  0:00:03  0:00:03 --:--:-- 45.5M\n"
          ],
          "name": "stdout"
        }
      ]
    },
    {
      "cell_type": "code",
      "metadata": {
        "colab": {
          "base_uri": "https://localhost:8080/"
        },
        "id": "TbdG2kk_wO1d",
        "outputId": "0887fe45-821c-41ab-8f69-f7464672767d"
      },
      "source": [
        "!pip3 install pixellib"
      ],
      "execution_count": null,
      "outputs": [
        {
          "output_type": "stream",
          "text": [
            "Collecting pixellib\n",
            "\u001b[?25l  Downloading https://files.pythonhosted.org/packages/a4/c3/2a55be96fd11189cd0f3449c699fc02f19ce0d205c49d0780034eb006352/pixellib-0.6.1-py3-none-any.whl (68kB)\n",
            "\r\u001b[K     |████▊                           | 10kB 16.2MB/s eta 0:00:01\r\u001b[K     |█████████▌                      | 20kB 21.0MB/s eta 0:00:01\r\u001b[K     |██████████████▎                 | 30kB 12.1MB/s eta 0:00:01\r\u001b[K     |███████████████████             | 40kB 9.6MB/s eta 0:00:01\r\u001b[K     |███████████████████████▉        | 51kB 8.1MB/s eta 0:00:01\r\u001b[K     |████████████████████████████▋   | 61kB 8.5MB/s eta 0:00:01\r\u001b[K     |████████████████████████████████| 71kB 4.5MB/s \n",
            "\u001b[?25hRequirement already satisfied: matplotlib in /usr/local/lib/python3.7/dist-packages (from pixellib) (3.2.2)\n",
            "Collecting labelme2coco\n",
            "  Downloading https://files.pythonhosted.org/packages/36/bf/a0ae23452fccb2215cecdff4df85fd29af4adfbd14e1bcb78379efedd968/labelme2coco-0.1.2-py3-none-any.whl\n",
            "Requirement already satisfied: imgaug in /usr/local/lib/python3.7/dist-packages (from pixellib) (0.2.9)\n",
            "Collecting imantics\n",
            "  Downloading https://files.pythonhosted.org/packages/1a/ff/8f92fa03b42f14860bc882d08187b359d3b8f9ef670d4efbed090d451c58/imantics-0.1.12.tar.gz\n",
            "Requirement already satisfied: scikit-image in /usr/local/lib/python3.7/dist-packages (from pixellib) (0.16.2)\n",
            "Requirement already satisfied: opencv-python in /usr/local/lib/python3.7/dist-packages (from pixellib) (4.1.2.30)\n",
            "Requirement already satisfied: pillow in /usr/local/lib/python3.7/dist-packages (from pixellib) (7.0.0)\n",
            "Requirement already satisfied: numpy>=1.11 in /usr/local/lib/python3.7/dist-packages (from matplotlib->pixellib) (1.19.5)\n",
            "Requirement already satisfied: python-dateutil>=2.1 in /usr/local/lib/python3.7/dist-packages (from matplotlib->pixellib) (2.8.1)\n",
            "Requirement already satisfied: cycler>=0.10 in /usr/local/lib/python3.7/dist-packages (from matplotlib->pixellib) (0.10.0)\n",
            "Requirement already satisfied: kiwisolver>=1.0.1 in /usr/local/lib/python3.7/dist-packages (from matplotlib->pixellib) (1.3.1)\n",
            "Requirement already satisfied: pyparsing!=2.0.4,!=2.1.2,!=2.1.6,>=2.0.1 in /usr/local/lib/python3.7/dist-packages (from matplotlib->pixellib) (2.4.7)\n",
            "Requirement already satisfied: jsonschema>=2.6.0 in /usr/local/lib/python3.7/dist-packages (from labelme2coco->pixellib) (2.6.0)\n",
            "Requirement already satisfied: six in /usr/local/lib/python3.7/dist-packages (from imgaug->pixellib) (1.15.0)\n",
            "Requirement already satisfied: scipy in /usr/local/lib/python3.7/dist-packages (from imgaug->pixellib) (1.4.1)\n",
            "Requirement already satisfied: Shapely in /usr/local/lib/python3.7/dist-packages (from imgaug->pixellib) (1.7.1)\n",
            "Requirement already satisfied: imageio in /usr/local/lib/python3.7/dist-packages (from imgaug->pixellib) (2.4.1)\n",
            "Requirement already satisfied: lxml in /usr/local/lib/python3.7/dist-packages (from imantics->pixellib) (4.2.6)\n",
            "Collecting xmljson\n",
            "  Downloading https://files.pythonhosted.org/packages/91/2d/7191efe15406b8b99e2b5905ca676a8a3dc2936416ade7ed17752902c250/xmljson-0.2.1-py2.py3-none-any.whl\n",
            "Requirement already satisfied: PyWavelets>=0.4.0 in /usr/local/lib/python3.7/dist-packages (from scikit-image->pixellib) (1.1.1)\n",
            "Requirement already satisfied: networkx>=2.0 in /usr/local/lib/python3.7/dist-packages (from scikit-image->pixellib) (2.5)\n",
            "Requirement already satisfied: decorator>=4.3.0 in /usr/local/lib/python3.7/dist-packages (from networkx>=2.0->scikit-image->pixellib) (4.4.2)\n",
            "Building wheels for collected packages: imantics\n",
            "  Building wheel for imantics (setup.py) ... \u001b[?25l\u001b[?25hdone\n",
            "  Created wheel for imantics: filename=imantics-0.1.12-cp37-none-any.whl size=16033 sha256=b5792a3076a47e76c2845d5362ba26f777789bf076a2a60c5966f7d0b1839e91\n",
            "  Stored in directory: /root/.cache/pip/wheels/73/93/1c/9e2fc52eb74441941bc76cac441ddcc2c7ad67b18e1849e62a\n",
            "Successfully built imantics\n",
            "Installing collected packages: labelme2coco, xmljson, imantics, pixellib\n",
            "Successfully installed imantics-0.1.12 labelme2coco-0.1.2 pixellib-0.6.1 xmljson-0.2.1\n"
          ],
          "name": "stdout"
        }
      ]
    },
    {
      "cell_type": "code",
      "metadata": {
        "id": "SZaKRrG2wGkX"
      },
      "source": [
        "import pixellib\r\n",
        "from pixellib.semantic import semantic_segmentation "
      ],
      "execution_count": null,
      "outputs": []
    },
    {
      "cell_type": "code",
      "metadata": {
        "id": "b-ADLubHwNMP"
      },
      "source": [
        "segment_image = semantic_segmentation()\r\n",
        "segment_image.load_pascalvoc_model('/content/deeplabv3_xception_tf_dim_ordering_tf_kernels.h5')"
      ],
      "execution_count": null,
      "outputs": []
    },
    {
      "cell_type": "code",
      "metadata": {
        "id": "2edwBJnowgem"
      },
      "source": [
        "segment_image.segmentAsPascalvoc('/content/teste.png', output_image_name = '/content/teste_result.png')"
      ],
      "execution_count": null,
      "outputs": []
    },
    {
      "cell_type": "code",
      "metadata": {
        "id": "typTGwHXzWxg"
      },
      "source": [
        "segment_image.segmentAsPascalvoc('/content/teste_1.png', output_image_name = '/content/teste_1_result.png')"
      ],
      "execution_count": null,
      "outputs": []
    },
    {
      "cell_type": "code",
      "metadata": {
        "id": "TFfJeZW0zWfQ"
      },
      "source": [
        "segment_image.segmentAsPascalvoc('/content/teste_2.png', output_image_name = '/content/teste_2_result.png')"
      ],
      "execution_count": null,
      "outputs": []
    },
    {
      "cell_type": "code",
      "metadata": {
        "colab": {
          "base_uri": "https://localhost:8080/"
        },
        "id": "d_9k3hxNxN2Y",
        "outputId": "93c06d8b-ced2-4728-c184-0597d7bedde2"
      },
      "source": [
        "!curl -LO https://github.com/ayoolaolafenwa/PixelLib/releases/download/1.2/mask_rcnn_coco.h5"
      ],
      "execution_count": null,
      "outputs": [
        {
          "output_type": "stream",
          "text": [
            "  % Total    % Received % Xferd  Average Speed   Time    Time     Time  Current\n",
            "                                 Dload  Upload   Total   Spent    Left  Speed\n",
            "100   625  100   625    0     0   2264      0 --:--:-- --:--:-- --:--:--  2264\n",
            "100  245M  100  245M    0     0  68.6M      0  0:00:03  0:00:03 --:--:-- 85.7M\n"
          ],
          "name": "stdout"
        }
      ]
    },
    {
      "cell_type": "code",
      "metadata": {
        "id": "4aj5uRTbxQ_H"
      },
      "source": [
        "import pixellib\r\n",
        "from pixellib.instance import instance_segmentation\r\n",
        "import cv2"
      ],
      "execution_count": null,
      "outputs": []
    },
    {
      "cell_type": "code",
      "metadata": {
        "id": "ZewV8luQxt3w"
      },
      "source": [
        "instance_seg = instance_segmentation()\r\n",
        "instance_seg.load_model('/content/mask_rcnn_coco.h5')"
      ],
      "execution_count": null,
      "outputs": []
    },
    {
      "cell_type": "code",
      "metadata": {
        "colab": {
          "base_uri": "https://localhost:8080/"
        },
        "id": "RY7WT4OexYeV",
        "outputId": "54514653-0ab6-4dd3-c0ba-b2157b86378d"
      },
      "source": [
        "segmask, output = instance_seg.segmentImage(\"/content/teste.png\")"
      ],
      "execution_count": null,
      "outputs": [
        {
          "output_type": "stream",
          "text": [
            "/usr/local/lib/python3.7/dist-packages/tensorflow/python/keras/engine/training.py:2325: UserWarning: `Model.state_updates` will be removed in a future version. This property should not be used in TensorFlow 2.0, as `updates` are applied automatically.\n",
            "  warnings.warn('`Model.state_updates` will be removed in a future version. '\n"
          ],
          "name": "stderr"
        }
      ]
    },
    {
      "cell_type": "code",
      "metadata": {
        "colab": {
          "base_uri": "https://localhost:8080/"
        },
        "id": "MzXusjH6x8d0",
        "outputId": "e49ab83e-232f-49b1-ab88-9b3f9148110c"
      },
      "source": [
        "cv2.imwrite('/content/teste_result_2.png', output)\r\n",
        "print(output.shape)"
      ],
      "execution_count": null,
      "outputs": [
        {
          "output_type": "stream",
          "text": [
            "(625, 1281, 3)\n"
          ],
          "name": "stdout"
        }
      ]
    },
    {
      "cell_type": "code",
      "metadata": {
        "colab": {
          "base_uri": "https://localhost:8080/"
        },
        "id": "wX43t-CdzxaG",
        "outputId": "45af59b8-01a3-416d-c47d-60a96c091b0e"
      },
      "source": [
        "segmask, output = instance_seg.segmentImage(\"/content/teste_1.png\")\r\n",
        "cv2.imwrite('/content/teste_1_result_2.png', output)"
      ],
      "execution_count": null,
      "outputs": [
        {
          "output_type": "stream",
          "text": [
            "/usr/local/lib/python3.7/dist-packages/tensorflow/python/keras/engine/training.py:2325: UserWarning: `Model.state_updates` will be removed in a future version. This property should not be used in TensorFlow 2.0, as `updates` are applied automatically.\n",
            "  warnings.warn('`Model.state_updates` will be removed in a future version. '\n"
          ],
          "name": "stderr"
        },
        {
          "output_type": "execute_result",
          "data": {
            "text/plain": [
              "True"
            ]
          },
          "metadata": {
            "tags": []
          },
          "execution_count": 22
        }
      ]
    },
    {
      "cell_type": "code",
      "metadata": {
        "colab": {
          "base_uri": "https://localhost:8080/"
        },
        "id": "MdHtcnCMzxR9",
        "outputId": "54cc3bb4-49c7-4ef6-e51f-18f960a9aeef"
      },
      "source": [
        "segmask, output = instance_seg.segmentImage(\"/content/teste_2.png\")\r\n",
        "cv2.imwrite('/content/teste_2_result_2.png', output)"
      ],
      "execution_count": null,
      "outputs": [
        {
          "output_type": "execute_result",
          "data": {
            "text/plain": [
              "True"
            ]
          },
          "metadata": {
            "tags": []
          },
          "execution_count": 23
        }
      ]
    },
    {
      "cell_type": "code",
      "metadata": {
        "colab": {
          "base_uri": "https://localhost:8080/"
        },
        "id": "dLShAVQd7gyU",
        "outputId": "86d587ce-cac6-499b-f531-6d621dbebdfa"
      },
      "source": [
        "target_classes = instance_seg.select_target_classes(person=True)\r\n",
        "segmask, output = instance_seg.segmentImage(\"/content/teste.png\", segment_target_classes=target_classes, extract_segmented_objects=True, verbose=1)\r\n",
        "cv2.imwrite('/content/teste_result_2.png', output)"
      ],
      "execution_count": null,
      "outputs": [
        {
          "output_type": "stream",
          "text": [
            "Processing image...\n"
          ],
          "name": "stdout"
        },
        {
          "output_type": "execute_result",
          "data": {
            "text/plain": [
              "True"
            ]
          },
          "metadata": {
            "tags": []
          },
          "execution_count": 47
        }
      ]
    },
    {
      "cell_type": "code",
      "metadata": {
        "colab": {
          "base_uri": "https://localhost:8080/"
        },
        "id": "S576UPzw8V1p",
        "outputId": "6f07e5b7-8c80-45c0-8a5e-c0de82c80311"
      },
      "source": [
        "mask = segmask['masks']\r\n",
        "mask = mask.astype(int)\r\n",
        "mask.shape"
      ],
      "execution_count": null,
      "outputs": [
        {
          "output_type": "execute_result",
          "data": {
            "text/plain": [
              "(625, 1281, 1)"
            ]
          },
          "metadata": {
            "tags": []
          },
          "execution_count": 49
        }
      ]
    },
    {
      "cell_type": "code",
      "metadata": {
        "colab": {
          "base_uri": "https://localhost:8080/",
          "height": 270
        },
        "id": "E6jGoDiH94e8",
        "outputId": "99dc9821-566a-4911-f8ff-aa45cc9595b7"
      },
      "source": [
        "import skimage.io\r\n",
        "import matplotlib\r\n",
        "import matplotlib.pyplot as plt\r\n",
        "\r\n",
        "for i in range(mask.shape[2]):\r\n",
        "    temp = skimage.io.imread('/content/teste.png')\r\n",
        "    for j in range(temp.shape[2]):\r\n",
        "        temp[:,:,j] = temp[:,:,j] * mask[:,:,i]\r\n",
        "    \r\n",
        "    ret,th1 = cv2.threshold(temp, 0, 255, cv2.THRESH_BINARY)\r\n",
        "\r\n",
        "    plt.figure(figsize=(8,8))\r\n",
        "    plt.imshow(temp)\r\n",
        "    plt.imshow(th1)"
      ],
      "execution_count": null,
      "outputs": [
        {
          "output_type": "display_data",
          "data": {
            "image/png": "[encoded data removed]",
            "text/plain": [
              "<Figure size 576x576 with 1 Axes>"
            ]
          },
          "metadata": {
            "tags": [],
            "needs_background": "light"
          }
        }
      ]
    }
  ]
}